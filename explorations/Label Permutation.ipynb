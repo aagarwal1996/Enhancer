{
 "cells": [
  {
   "cell_type": "markdown",
   "metadata": {},
   "source": [
    "# Explore what happens if we permute the labels of the enhancer data"
   ]
  },
  {
   "cell_type": "markdown",
   "metadata": {},
   "source": [
    "In this notebook, we explore what happens to the feature importance of RF when we permute the labels of the enhancer data. This exploration helps to understand the behavior of Gini importance when RF did not predict well. The finding is interesting: some features are more favored by RF than other features. This highlights the problem of using Gini importance to select \"important\" features for this dataset."
   ]
  },
  {
   "cell_type": "code",
   "execution_count": 1,
   "metadata": {},
   "outputs": [],
   "source": [
    "import rpy2.robjects as robjects\n",
    "import numpy as np\n",
    "import matplotlib.pyplot as plt\n",
    "from sklearn.ensemble import AdaBoostClassifier\n",
    "from sklearn.ensemble import RandomForestClassifier\n",
    "from irf import irf_utils, irf_jupyter_utils"
   ]
  },
  {
   "cell_type": "markdown",
   "metadata": {},
   "source": [
    "## read the data"
   ]
  },
  {
   "cell_type": "code",
   "execution_count": 2,
   "metadata": {},
   "outputs": [
    {
     "name": "stdout",
     "output_type": "stream",
     "text": [
      "[1] \"X\"            \"Y\"            \"test.id\"      \"train.id\"     \"varnames.all\"\n",
      "\n",
      "[[ 6.      10.      10.      ...  0.       0.       0.     ]\n",
      " [ 6.       7.       6.      ...  0.       0.       0.     ]\n",
      " [14.       9.      14.      ...  0.       0.       1.2013 ]\n",
      " ...\n",
      " [ 9.      12.      16.      ...  2.13176  2.22051  1.20134]\n",
      " [17.      18.      14.      ...  1.49709  1.39971  1.26398]\n",
      " [13.      15.      18.      ...  2.03769  2.03994  0.     ]]\n"
     ]
    }
   ],
   "source": [
    "tmp = robjects.r['load']('../iRF_analyses/data/enhancer.Rdata')\n",
    "print(tmp)\n",
    "X = robjects.r[\"X\"]\n",
    "XX = np.asarray(X)\n",
    "print(XX)\n",
    "assert(len(XX[0]) == X.ncol) #same number of cols\n",
    "assert(len(XX) == X.nrow)\n",
    "X = XX\n",
    "Y = robjects.r[\"Y\"]\n",
    "Y = np.asarray(Y)\n",
    "assert(len(Y) == len(X))\n",
    "test = np.asarray(robjects.r[\"test.id\"])\n",
    "train = np.asarray(robjects.r[\"train.id\"])\n",
    "varnames = np.asarray(robjects.r[\"varnames.all\"])"
   ]
  },
  {
   "cell_type": "markdown",
   "metadata": {},
   "source": [
    "## permute the labels"
   ]
  },
  {
   "cell_type": "code",
   "execution_count": 3,
   "metadata": {},
   "outputs": [],
   "source": [
    "Y = np.random.permutation(Y)"
   ]
  },
  {
   "cell_type": "markdown",
   "metadata": {},
   "source": [
    "## train test split"
   ]
  },
  {
   "cell_type": "code",
   "execution_count": 4,
   "metadata": {},
   "outputs": [],
   "source": [
    "X_train = X[train-1,:]\n",
    "X_test = X[test-1,:]\n",
    "y_train = Y[train - 1]\n",
    "y_test = Y[test - 1]"
   ]
  },
  {
   "cell_type": "markdown",
   "metadata": {},
   "source": [
    "## train RF"
   ]
  },
  {
   "cell_type": "code",
   "execution_count": 8,
   "metadata": {},
   "outputs": [
    {
     "data": {
      "text/plain": [
       "RandomForestClassifier(bootstrap=True, class_weight=None, criterion='gini',\n",
       "            max_depth=5, max_features='auto', max_leaf_nodes=None,\n",
       "            min_impurity_decrease=0.0, min_impurity_split=None,\n",
       "            min_samples_leaf=1, min_samples_split=2,\n",
       "            min_weight_fraction_leaf=0.0, n_estimators=50, n_jobs=None,\n",
       "            oob_score=False, random_state=None, verbose=0,\n",
       "            warm_start=False)"
      ]
     },
     "execution_count": 8,
     "metadata": {},
     "output_type": "execute_result"
    }
   ],
   "source": [
    "rf = RandomForestClassifier(n_estimators=50, max_depth=5)\n",
    "rf.fit(X_train, y_train)"
   ]
  },
  {
   "cell_type": "markdown",
   "metadata": {},
   "source": [
    "## plot the feature importance"
   ]
  },
  {
   "cell_type": "code",
   "execution_count": 9,
   "metadata": {},
   "outputs": [
    {
     "data": {
      "text/plain": [
       "<BarContainer object of 80 artists>"
      ]
     },
     "execution_count": 9,
     "metadata": {},
     "output_type": "execute_result"
    },
    {
     "data": {
      "image/png": "[encoded data removed]",
      "text/plain": [
       "<Figure size 432x288 with 1 Axes>"
      ]
     },
     "metadata": {
      "needs_background": "light"
     },
     "output_type": "display_data"
    }
   ],
   "source": [
    "p = len(rf.feature_importances_)\n",
    "plt.bar(x = list(reversed(range(p))), height = np.sort(rf.feature_importances_))"
   ]
  },
  {
   "cell_type": "markdown",
   "metadata": {},
   "source": [
    "### repeat the permutation 100 times and record the frequency of the \"most important” genes"
   ]
  },
  {
   "cell_type": "code",
   "execution_count": 11,
   "metadata": {},
   "outputs": [
    {
     "name": "stdout",
     "output_type": "stream",
     "text": [
      "['H3' 'H3K18ac' 'H3K18ac' 'H3K18ac' 'H3K27ac' 'H3K27me3' 'H3K27me3'\n",
      " 'H3K27me3' 'H3K36me3' 'H3K36me3' 'H3K36me3' 'H3K4me1' 'H3K4me3' 'H3K4me3'\n",
      " 'H3K4me3' 'H3K4me3' 'H3K9ac' 'H4K5ac' 'wt_H3' 'wt_H3K18ac' 'wt_H3K4me1'\n",
      " 'wt_ZLD'] [  1   4   1   2   5  14  16  13  13   9   5   2  14   9   2   2   1   6\n",
      " 112  47  74  48]\n"
     ]
    }
   ],
   "source": [
    "n_trials = 400\n",
    "records = []\n",
    "for _ in range(n_trials):\n",
    "    y_train = np.random.permutation(y_train)\n",
    "    rf = RandomForestClassifier(n_estimators=50)\n",
    "    rf.fit(X_train, y_train)\n",
    "    records.append(np.argmax(rf.feature_importances_))\n",
    "vals, freqs = np.unique(records, return_counts=True)\n",
    "print(varnames[1,vals], freqs)"
   ]
  },
  {
   "cell_type": "markdown",
   "metadata": {},
   "source": [
    "### Findings: even if the labels are permuted, ZLD appears at the top 15% times, H3K18ac appears 25% times, H3K4me1 appears 17% times. This shows the feature importance is not uniform across features when none of them is predictive."
   ]
  }
 ],
 "metadata": {
  "kernelspec": {
   "display_name": "Python 3",
   "language": "python",
   "name": "python3"
  },
  "language_info": {
   "codemirror_mode": {
    "name": "ipython",
    "version": 3
   },
   "file_extension": ".py",
   "mimetype": "text/x-python",
   "name": "python",
   "nbconvert_exporter": "python",
   "pygments_lexer": "ipython3",
   "version": "3.6.8"
  }
 },
 "nbformat": 4,
 "nbformat_minor": 2
}

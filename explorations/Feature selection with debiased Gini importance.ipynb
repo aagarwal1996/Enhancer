{
 "cells": [
  {
   "cell_type": "markdown",
   "metadata": {},
   "source": [
    "# Feature selection with the debiased Gini importance"
   ]
  },
  {
   "cell_type": "markdown",
   "metadata": {},
   "source": [
    "This notebook explores the performance of the new debiased Gini importance and its feature selection behavior"
   ]
  },
  {
   "cell_type": "code",
   "execution_count": 1,
   "metadata": {},
   "outputs": [],
   "source": [
    "import rpy2.robjects as robjects\n",
    "import numpy as np\n",
    "#from irf.ensemble import wrf\n",
    "import matplotlib.pyplot as plt\n",
    "from sklearn.ensemble import AdaBoostClassifier\n",
    "from sklearn.ensemble import RandomForestClassifier\n",
    "from irf import irf_utils, irf_jupyter_utils\n",
    "from rfms.storytellers import test_feature_importance"
   ]
  },
  {
   "cell_type": "markdown",
   "metadata": {},
   "source": [
    "## read the data"
   ]
  },
  {
   "cell_type": "code",
   "execution_count": 2,
   "metadata": {},
   "outputs": [
    {
     "name": "stdout",
     "output_type": "stream",
     "text": [
      "[1] \"X\"            \"Y\"            \"test.id\"      \"train.id\"     \"varnames.all\"\n",
      "\n",
      "[[ 6.      10.      10.      ...  0.       0.       0.     ]\n",
      " [ 6.       7.       6.      ...  0.       0.       0.     ]\n",
      " [14.       9.      14.      ...  0.       0.       1.2013 ]\n",
      " ...\n",
      " [ 9.      12.      16.      ...  2.13176  2.22051  1.20134]\n",
      " [17.      18.      14.      ...  1.49709  1.39971  1.26398]\n",
      " [13.      15.      18.      ...  2.03769  2.03994  0.     ]]\n"
     ]
    }
   ],
   "source": [
    "tmp = robjects.r['load']('../iRF_analyses/data/enhancer.Rdata')\n",
    "print(tmp)\n",
    "X = robjects.r[\"X\"]\n",
    "XX = np.asarray(X)\n",
    "print(XX)\n",
    "assert(len(XX[0]) == X.ncol) #same number of cols\n",
    "assert(len(XX) == X.nrow)\n",
    "X = XX\n",
    "Y = robjects.r[\"Y\"]\n",
    "Y = np.asarray(Y)\n",
    "assert(len(Y) == len(X))\n",
    "test = np.asarray(robjects.r[\"test.id\"])\n",
    "train = np.asarray(robjects.r[\"train.id\"])\n",
    "varnames = np.asarray(robjects.r[\"varnames.all\"])"
   ]
  },
  {
   "cell_type": "markdown",
   "metadata": {},
   "source": [
    "## train test split"
   ]
  },
  {
   "cell_type": "code",
   "execution_count": 3,
   "metadata": {},
   "outputs": [],
   "source": [
    "X_train = X[train-1,:]\n",
    "X_test = X[test-1,:]\n",
    "y_train = Y[train - 1]\n",
    "y_test = Y[test - 1]"
   ]
  },
  {
   "cell_type": "markdown",
   "metadata": {},
   "source": [
    "## train RF"
   ]
  },
  {
   "cell_type": "code",
   "execution_count": 4,
   "metadata": {},
   "outputs": [
    {
     "data": {
      "text/plain": [
       "RandomForestClassifier(bootstrap=True, class_weight=None, criterion='gini',\n",
       "            max_depth=5, max_features='auto', max_leaf_nodes=None,\n",
       "            min_impurity_decrease=0.0, min_impurity_split=None,\n",
       "            min_samples_leaf=1, min_samples_split=2,\n",
       "            min_weight_fraction_leaf=0.0, n_estimators=50, n_jobs=None,\n",
       "            oob_score=False, random_state=None, verbose=0,\n",
       "            warm_start=False)"
      ]
     },
     "execution_count": 4,
     "metadata": {},
     "output_type": "execute_result"
    }
   ],
   "source": [
    "rf = RandomForestClassifier(n_estimators=50, max_depth=5)\n",
    "rf.fit(X_train, y_train)"
   ]
  },
  {
   "cell_type": "markdown",
   "metadata": {},
   "source": [
    "## calculate debiased Gini importance"
   ]
  },
  {
   "cell_type": "code",
   "execution_count": 5,
   "metadata": {},
   "outputs": [],
   "source": [
    "test_importance, test_SE = test_feature_importance(rf, X_test, y_test)"
   ]
  },
  {
   "cell_type": "markdown",
   "metadata": {},
   "source": [
    "## plot the feature importance"
   ]
  },
  {
   "cell_type": "code",
   "execution_count": 6,
   "metadata": {},
   "outputs": [
    {
     "data": {
      "text/plain": [
       "<BarContainer object of 80 artists>"
      ]
     },
     "execution_count": 6,
     "metadata": {},
     "output_type": "execute_result"
    },
    {
     "data": {
      "image/png": "[encoded data removed]",
      "text/plain": [
       "<Figure size 432x288 with 1 Axes>"
      ]
     },
     "metadata": {
      "needs_background": "light"
     },
     "output_type": "display_data"
    }
   ],
   "source": [
    "p = len(rf.feature_importances_)\n",
    "plt.bar(x = list(reversed(range(p))), height = np.sort(rf.feature_importances_))"
   ]
  },
  {
   "cell_type": "markdown",
   "metadata": {},
   "source": [
    "## plot debiased feature importance"
   ]
  },
  {
   "cell_type": "code",
   "execution_count": 7,
   "metadata": {
    "scrolled": true
   },
   "outputs": [
    {
     "data": {
      "text/plain": [
       "<BarContainer object of 80 artists>"
      ]
     },
     "execution_count": 7,
     "metadata": {},
     "output_type": "execute_result"
    },
    {
     "data": {
      "image/png": "[encoded data removed]",
      "text/plain": [
       "<Figure size 432x288 with 1 Axes>"
      ]
     },
     "metadata": {
      "needs_background": "light"
     },
     "output_type": "display_data"
    }
   ],
   "source": [
    "#stat_sig = \n",
    "ix = np.argsort(test_importance)\n",
    "plt.bar(x = list(reversed(range(p))), height = test_importance[ix], yerr = test_SE[ix] * 2)"
   ]
  },
  {
   "cell_type": "markdown",
   "metadata": {},
   "source": [
    "## give the set of features that is above the threshold"
   ]
  },
  {
   "cell_type": "code",
   "execution_count": 8,
   "metadata": {
    "scrolled": true
   },
   "outputs": [
    {
     "data": {
      "text/plain": [
       "array(['H3', 'H3', 'H3', 'H3', 'H3K18ac', 'H3K18ac', 'H3K18ac', 'H3K18ac',\n",
       "       'H3K27ac', 'H3K27ac', 'H3K27ac', 'H3K27ac', 'H3K27me3', 'H3K27me3',\n",
       "       'H3K27me3', 'H3K36me3', 'H3K36me3', 'H3K36me3', 'H3K4me1',\n",
       "       'H3K4me1', 'H3K4me1', 'H3K4me1', 'H3K4me3', 'H3K4me3', 'H3K4me3',\n",
       "       'H3K4me3', 'H3K9ac', 'H3K9ac', 'H3K9ac', 'H3K9ac', 'H4K5ac',\n",
       "       'H4K5ac', 'H4K5ac', 'H4K5ac', 'H4K8ac', 'H4K8ac', 'H4K8ac',\n",
       "       'H4K8ac', 'input1', 'input2', 'input3', 'input4', 'wt_H3',\n",
       "       'wt_H3K18ac', 'wt_H3K4me1', 'wt_ZLD', 'bcd', 'bcd', 'cad1', 'D1',\n",
       "       'da2', 'dl3', 'ftz3', 'gt2', 'h', 'h', 'hb', 'hb', 'hkb', 'hkb',\n",
       "       'hkb', 'kni', 'kni', 'kr', 'kr', 'mad2', 'med2', 'prdBQ', 'prdFQ',\n",
       "       'run', 'run', 'shn', 'shn', 'slp', 'sna', 'sna', 'tll', 'twi',\n",
       "       'twi', 'z2'], dtype='<U13')"
      ]
     },
     "execution_count": 8,
     "metadata": {},
     "output_type": "execute_result"
    }
   ],
   "source": [
    "varnames[1,:]"
   ]
  },
  {
   "cell_type": "code",
   "execution_count": 11,
   "metadata": {},
   "outputs": [
    {
     "data": {
      "text/plain": [
       "array(['H3', 'H3K18ac', 'H3K27ac', 'H3K4me1', 'H3K4me3', 'H3K4me3',\n",
       "       'H3K9ac', 'H4K5ac', 'H4K8ac', 'wt_H3K18ac', 'wt_ZLD', 'bcd',\n",
       "       'cad1', 'D1', 'da2', 'dl3', 'ftz3', 'gt2', 'h', 'h', 'hb', 'hb',\n",
       "       'hkb', 'hkb', 'hkb', 'kni', 'kni', 'kr', 'kr', 'mad2', 'med2',\n",
       "       'prdBQ', 'prdFQ', 'run', 'run', 'sna', 'tll', 'twi', 'twi'],\n",
       "      dtype='<U13')"
      ]
     },
     "execution_count": 11,
     "metadata": {},
     "output_type": "execute_result"
    }
   ],
   "source": [
    "selected_features = test_importance > test_SE * 2\n",
    "varnames[1,selected_features]"
   ]
  },
  {
   "cell_type": "markdown",
   "metadata": {},
   "source": [
    "# do the same analysis but with permuted labels"
   ]
  },
  {
   "cell_type": "markdown",
   "metadata": {},
   "source": [
    "## permute the labels"
   ]
  },
  {
   "cell_type": "code",
   "execution_count": 43,
   "metadata": {},
   "outputs": [],
   "source": [
    "Y = np.random.permutation(Y)"
   ]
  },
  {
   "cell_type": "markdown",
   "metadata": {},
   "source": [
    "## train test split"
   ]
  },
  {
   "cell_type": "code",
   "execution_count": 44,
   "metadata": {},
   "outputs": [],
   "source": [
    "X_train = X[train-1,:]\n",
    "X_test = X[test-1,:]\n",
    "y_train = Y[train - 1]\n",
    "y_test = Y[test - 1]"
   ]
  },
  {
   "cell_type": "markdown",
   "metadata": {},
   "source": [
    "## train RF"
   ]
  },
  {
   "cell_type": "code",
   "execution_count": 45,
   "metadata": {},
   "outputs": [
    {
     "data": {
      "text/plain": [
       "RandomForestClassifier(bootstrap=True, class_weight=None, criterion='gini',\n",
       "            max_depth=5, max_features='auto', max_leaf_nodes=None,\n",
       "            min_impurity_decrease=0.0, min_impurity_split=None,\n",
       "            min_samples_leaf=1, min_samples_split=2,\n",
       "            min_weight_fraction_leaf=0.0, n_estimators=50, n_jobs=None,\n",
       "            oob_score=False, random_state=None, verbose=0,\n",
       "            warm_start=False)"
      ]
     },
     "execution_count": 45,
     "metadata": {},
     "output_type": "execute_result"
    }
   ],
   "source": [
    "rf = RandomForestClassifier(n_estimators=50, max_depth=5)\n",
    "rf.fit(X_train, y_train)"
   ]
  },
  {
   "cell_type": "markdown",
   "metadata": {},
   "source": [
    "## calculate debiased Gini importance"
   ]
  },
  {
   "cell_type": "code",
   "execution_count": 46,
   "metadata": {},
   "outputs": [],
   "source": [
    "test_importance, test_SE = test_feature_importance(rf, X_test, y_test)"
   ]
  },
  {
   "cell_type": "markdown",
   "metadata": {},
   "source": [
    "## plot the feature importance"
   ]
  },
  {
   "cell_type": "code",
   "execution_count": 47,
   "metadata": {},
   "outputs": [
    {
     "data": {
      "text/plain": [
       "<BarContainer object of 80 artists>"
      ]
     },
     "execution_count": 47,
     "metadata": {},
     "output_type": "execute_result"
    },
    {
     "data": {
      "image/png": "[encoded data removed]",
      "text/plain": [
       "<Figure size 432x288 with 1 Axes>"
      ]
     },
     "metadata": {
      "needs_background": "light"
     },
     "output_type": "display_data"
    }
   ],
   "source": [
    "p = len(rf.feature_importances_)\n",
    "plt.bar(x = list(reversed(range(p))), height = np.sort(rf.feature_importances_))"
   ]
  },
  {
   "cell_type": "markdown",
   "metadata": {},
   "source": [
    "## plot debiased feature importance"
   ]
  },
  {
   "cell_type": "code",
   "execution_count": 48,
   "metadata": {},
   "outputs": [
    {
     "data": {
      "text/plain": [
       "<BarContainer object of 80 artists>"
      ]
     },
     "execution_count": 48,
     "metadata": {},
     "output_type": "execute_result"
    },
    {
     "data": {
      "image/png": "[encoded data removed]",
      "text/plain": [
       "<Figure size 432x288 with 1 Axes>"
      ]
     },
     "metadata": {
      "needs_background": "light"
     },
     "output_type": "display_data"
    }
   ],
   "source": [
    "#stat_sig = \n",
    "ix = np.argsort(test_importance)\n",
    "plt.bar(x = list(reversed(range(p))), height = test_importance[ix], yerr = test_SE[ix] * 3)"
   ]
  },
  {
   "cell_type": "markdown",
   "metadata": {},
   "source": [
    "## debiased Gini importance is close to zero"
   ]
  }
 ],
 "metadata": {
  "kernelspec": {
   "display_name": "Python3 (base)",
   "language": "python",
   "name": "base"
  },
  "language_info": {
   "codemirror_mode": {
    "name": "ipython",
    "version": 3
   },
   "file_extension": ".py",
   "mimetype": "text/x-python",
   "name": "python",
   "nbconvert_exporter": "python",
   "pygments_lexer": "ipython3",
   "version": "3.6.8"
  }
 },
 "nbformat": 4,
 "nbformat_minor": 2
}

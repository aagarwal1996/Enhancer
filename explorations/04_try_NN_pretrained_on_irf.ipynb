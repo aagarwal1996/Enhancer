{
 "cells": [
  {
   "cell_type": "markdown",
   "metadata": {},
   "source": [
    "# Exploration on NN pretrained using iRF"
   ]
  },
  {
   "cell_type": "markdown",
   "metadata": {},
   "source": [
    "This notebook tries the idea of neural network to solve the enhancer data prediction problem. It explores several ways:\n",
    "\n",
    "1. Vanilla 2 layer neural network.\n",
    "2. Vanilla 2 layer NN + iRF pretraining."
   ]
  },
  {
   "cell_type": "code",
   "execution_count": 119,
   "metadata": {},
   "outputs": [],
   "source": [
    "import numpy as np\n",
    "import sklearn \n",
    "from sklearn.preprocessing import scale\n",
    "import torch as th\n",
    "import pandas as pd\n",
    "import scipy as sp\n",
    "import scipy.optimize \n",
    "from sklearn.metrics import accuracy_score, mean_squared_error, f1_score, roc_auc_score, roc_curve\n",
    "import sys\n",
    "import copy\n",
    "sys.path.append('../code/') \n",
    "from NN_learner import NN_learner\n",
    "import matplotlib.pyplot as plt\n",
    "from tensorboardX import SummaryWriter\n",
    "from irf.ensemble import RandomForestClassifier\n",
    "%matplotlib inline"
   ]
  },
  {
   "cell_type": "markdown",
   "metadata": {},
   "source": [
    "### load data"
   ]
  },
  {
   "cell_type": "code",
   "execution_count": 2,
   "metadata": {},
   "outputs": [],
   "source": [
    "X_train = np.array(pd.read_csv('../data/01_X_train.csv', header=0, index_col=0))\n",
    "X_test = np.array(pd.read_csv('../data/02_X_test.csv', header=0, index_col=0))\n",
    "y_train = np.array(pd.read_csv('../data/03_y_train.csv', header=0, index_col=0))\n",
    "y_test = np.array(pd.read_csv('../data/04_y_test.csv', header=0, index_col=0))"
   ]
  },
  {
   "cell_type": "markdown",
   "metadata": {},
   "source": [
    "<hr/>\n",
    "## Method 1: directly train on the data\n",
    "<hr/>"
   ]
  },
  {
   "cell_type": "markdown",
   "metadata": {},
   "source": [
    "### training"
   ]
  },
  {
   "cell_type": "code",
   "execution_count": 17,
   "metadata": {},
   "outputs": [],
   "source": [
    "sample_size = X_train.shape[0]\n",
    "nn = NN_learner(X_train, y_train, \n",
    "                 initial_model = None,\n",
    "                  max_iter=2e4, \n",
    "                  name='sample_.2_lr_1e-4_iter_2e4_ADAM',\n",
    "                  batch_size=sample_size//5,\n",
    "                  method = 'adam',\n",
    "                  learning_rate = 1e-4)"
   ]
  },
  {
   "cell_type": "markdown",
   "metadata": {},
   "source": [
    "### evaluating on the test set"
   ]
  },
  {
   "cell_type": "code",
   "execution_count": 53,
   "metadata": {},
   "outputs": [],
   "source": [
    "y_pred = nn(th.tensor(X_test.astype(np.float32)).to('cuda')).cpu().data.numpy()"
   ]
  },
  {
   "cell_type": "code",
   "execution_count": 54,
   "metadata": {},
   "outputs": [
    {
     "name": "stdout",
     "output_type": "stream",
     "text": [
      "mean accuracy is 0.9009\n"
     ]
    }
   ],
   "source": [
    "print('mean accuracy is %.4f'%(accuracy_score(y_test, y_pred > .5)))"
   ]
  },
  {
   "cell_type": "markdown",
   "metadata": {},
   "source": [
    "<hr/>\n",
    "## Method 2: pretrained using RF\n",
    "<hr/>"
   ]
  },
  {
   "cell_type": "code",
   "execution_count": 21,
   "metadata": {},
   "outputs": [],
   "source": [
    "import pickle as pk\n",
    "with open('../results/01_irf_model.pickle', 'rb') as f:\n",
    "    rf = pk.load(f)"
   ]
  },
  {
   "cell_type": "markdown",
   "metadata": {},
   "source": [
    "### test the accuracy of the RF"
   ]
  },
  {
   "cell_type": "code",
   "execution_count": 42,
   "metadata": {},
   "outputs": [
    {
     "name": "stdout",
     "output_type": "stream",
     "text": [
      " IRF's mean accuracy is 0.9266\n"
     ]
    }
   ],
   "source": [
    "print(' IRF\\'s mean accuracy is %.4f'%(accuracy_score(y_test, rf.predict(X_test))))"
   ]
  },
  {
   "cell_type": "markdown",
   "metadata": {},
   "source": [
    "### get RF's prediction on the test set"
   ]
  },
  {
   "cell_type": "code",
   "execution_count": 70,
   "metadata": {},
   "outputs": [],
   "source": [
    "X_new = X_test.copy()\n",
    "y_new = rf.predict_proba(X_new)[:,1:2]"
   ]
  },
  {
   "cell_type": "code",
   "execution_count": 88,
   "metadata": {},
   "outputs": [
    {
     "data": {
      "text/plain": [
       "<matplotlib.collections.PathCollection at 0x7fbb668ee940>"
      ]
     },
     "execution_count": 88,
     "metadata": {},
     "output_type": "execute_result"
    },
    {
     "data": {
      "image/png": "[encoded data removed]",
      "text/plain": [
       "<Figure size 432x288 with 1 Axes>"
      ]
     },
     "metadata": {},
     "output_type": "display_data"
    }
   ],
   "source": [
    "plt.scatter(y_new, rf.predict(X_new))"
   ]
  },
  {
   "cell_type": "markdown",
   "metadata": {},
   "source": [
    "### Train the neural net"
   ]
  },
  {
   "cell_type": "code",
   "execution_count": 71,
   "metadata": {},
   "outputs": [],
   "source": [
    "sample_size = X_new.shape[0]\n",
    "nn_new = NN_learner(X_new, y_new, \n",
    "                    initial_model = None,\n",
    "                    max_iter=1e5, \n",
    "                    name='pretrain_test_sample_.5_lr_1e-5_iter_1e5_ADAM',\n",
    "                    batch_size=sample_size//2,\n",
    "                    method = 'adam',\n",
    "                    learning_rate = 1e-5)"
   ]
  },
  {
   "cell_type": "markdown",
   "metadata": {},
   "source": [
    "### make sure the neural network has the same prediction accuracy"
   ]
  },
  {
   "cell_type": "code",
   "execution_count": 130,
   "metadata": {},
   "outputs": [
    {
     "name": "stdout",
     "output_type": "stream",
     "text": [
      "mse between y_pred and RF is 0.0008\n",
      "mean accuracy is 0.9230\n",
      "f1 score is 0.4505\n",
      "auc score is 0.8171\n",
      "mse is 0.0595\n"
     ]
    }
   ],
   "source": [
    "y_pred = nn_new(th.tensor(X_test.astype(np.float32)).to('cuda')).cpu().data.numpy()\n",
    "print('mse between y_pred and RF is %.4f'%(mean_squared_error(rf.predict_proba(X_test)[:,1:2], y_pred)))\n",
    "print('mean accuracy is %.4f'%(accuracy_score(y_test, y_pred > .4)))\n",
    "print('f1 score is %.4f'%(f1_score(y_test, y_pred > .4)))\n",
    "fpr, tpr, thresholds = roc_curve(y_test, y_pred, pos_label=1)\n",
    "print('auc score is %.4f'%(auc(fpr, tpr)))\n",
    "print('mse is %.4f'%(mean_squared_error(y_test, y_pred)))"
   ]
  },
  {
   "cell_type": "markdown",
   "metadata": {},
   "source": [
    "### fine tuning on the training set"
   ]
  },
  {
   "cell_type": "code",
   "execution_count": 133,
   "metadata": {},
   "outputs": [
    {
     "name": "stdout",
     "output_type": "stream",
     "text": [
      "Warning: NaN or Inf found in input tensor.\n",
      "Warning: NaN or Inf found in input tensor.\n",
      "Warning: NaN or Inf found in input tensor.\n",
      "Warning: NaN or Inf found in input tensor.\n",
      "Warning: NaN or Inf found in input tensor.\n",
      "Warning: NaN or Inf found in input tensor.\n",
      "Warning: NaN or Inf found in input tensor.\n",
      "Warning: NaN or Inf found in input tensor.\n",
      "Warning: NaN or Inf found in input tensor.\n"
     ]
    }
   ],
   "source": [
    "ratio = .001\n",
    "whole_X_train = np.vstack([ratio * X_train, X_new])\n",
    "whole_y_train = np.vstack([ratio * y_train, y_new])\n",
    "sample_size = whole_X_train.shape[0]\n",
    "nn_fine_tuning = NN_learner(whole_X_train, whole_y_train, \n",
    "                    initial_model = copy.deepcopy(nn_new),\n",
    "                    max_iter=1e3,\n",
    "                    name='fine_tune_joint_1_lr_1e-4_iter_1e3_ADAM',\n",
    "                    batch_size=sample_size,\n",
    "                    method = 'adam',\n",
    "                    learning_rate = 1e-4)"
   ]
  },
  {
   "cell_type": "code",
   "execution_count": 134,
   "metadata": {},
   "outputs": [
    {
     "name": "stdout",
     "output_type": "stream",
     "text": [
      "mse between y_pred and RF is 0.0009\n",
      "mean accuracy is 0.9222\n",
      "f1 score is 0.4560\n",
      "auc score is 0.8193\n",
      "mse is 0.0597\n"
     ]
    }
   ],
   "source": [
    "y_pred = nn_fine_tuning(th.tensor(X_test.astype(np.float32)).to('cuda')).cpu().data.numpy()\n",
    "print('mse between y_pred and RF is %.4f'%(mean_squared_error(rf.predict_proba(X_test)[:,1:2], y_pred)))\n",
    "print('mean accuracy is %.4f'%(accuracy_score(y_test, y_pred > .4)))\n",
    "print('f1 score is %.4f'%(f1_score(y_test, y_pred > .4)))\n",
    "fpr, tpr, thresholds = roc_curve(y_test, y_pred, pos_label=1)\n",
    "print('auc score is %.4f'%(auc(fpr, tpr)))\n",
    "print('mse is %.4f'%(mean_squared_error(y_test, y_pred)))"
   ]
  },
  {
   "cell_type": "markdown",
   "metadata": {},
   "source": [
    "\n",
    "### Observation:  __fine tuned NN is not as good as the original RF__"
   ]
  }
 ],
 "metadata": {
  "kernelspec": {
   "display_name": "Environment (conda_pytorch_p36)",
   "language": "python",
   "name": "conda_pytorch_p36"
  },
  "language_info": {
   "codemirror_mode": {
    "name": "ipython",
    "version": 3
   },
   "file_extension": ".py",
   "mimetype": "text/x-python",
   "name": "python",
   "nbconvert_exporter": "python",
   "pygments_lexer": "ipython3",
   "version": "3.6.5"
  }
 },
 "nbformat": 4,
 "nbformat_minor": 2
}
